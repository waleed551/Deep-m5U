{
 "cells": [
  {
   "cell_type": "code",
   "execution_count": 1,
   "metadata": {},
   "outputs": [
    {
     "name": "stderr",
     "output_type": "stream",
     "text": [
      "2023-07-14 20:07:46.377396: I tensorflow/stream_executor/platform/default/dso_loader.cc:49] Successfully opened dynamic library libcudart.so.11.0\n",
      "Using TensorFlow backend.\n"
     ]
    }
   ],
   "source": [
    "import sys\n",
    "sys.path.insert(0, '../models/')\n",
    "import os\n",
    "os.environ[\"CUDA_DEVICE_ORDER\"]=\"PCI_BUS_ID\"   # see issue #152\n",
    "os.environ[\"CUDA_VISIBLE_DEVICES\"]=\"0\"\n",
    "\n",
    "import pandas as pd\n",
    "import numpy as np\n",
    "import matplotlib.pyplot as plt\n",
    "from random import shuffle\n",
    "from Bio import SeqIO\n",
    "from tensorflow.keras.layers import *\n",
    "from tensorflow.keras.layers import Input,Conv1D, Dense,LSTM, MaxPooling1D, Flatten, Dropout, BatchNormalization, Activation,AveragePooling1D\n",
    "from tensorflow.keras import *\n",
    "from tensorflow.keras.models import Model\n",
    "from tensorflow.keras.callbacks import ModelCheckpoint, EarlyStopping,ReduceLROnPlateau\n",
    "from tensorflow.keras.regularizers import l2 ,l1\n",
    "from tensorflow.keras.optimizers import SGD, Adam, RMSprop\n",
    "from tensorflow.keras.callbacks import ModelCheckpoint, EarlyStopping, LearningRateScheduler, CSVLogger\n",
    "from tensorflow.keras.models import model_from_json\n",
    "from tensorflow.keras.models import model_from_yaml\n",
    "import keras\n",
    "from tensorflow.keras.initializers import RandomUniform\n",
    "import keras.backend as K\n",
    "from random import shuffle\n",
    "from sklearn.utils import class_weight\n",
    "from tcn import TCN\n",
    "\n",
    "import h5py\n",
    "import scipy.io\n",
    "import gzip\n",
    "import re\n",
    "import random\n",
    "np.random.seed(1337)"
   ]
  },
  {
   "cell_type": "code",
   "execution_count": 2,
   "metadata": {},
   "outputs": [],
   "source": [
    "enh_pos_seq = []\n",
    "for seq_record in SeqIO.parse('datasets/Fulltranscriptmode-train-Pos.txt', \"fasta\"):\n",
    "    enh_pos_seq.append(str(seq_record.seq))\n",
    "enh_neg_seq = []\n",
    "for seq_record in SeqIO.parse('datasets/Fulltranscriptmode-train-Neg.txt', \"fasta\"):\n",
    "    enh_neg_seq.append(str(seq_record.seq))\n",
    "enh_combine_seqs = enh_pos_seq + enh_neg_seq\n",
    "    "
   ]
  },
  {
   "cell_type": "code",
   "execution_count": 3,
   "metadata": {},
   "outputs": [],
   "source": [
    "import re\n",
    "def get_feature(all_seqs,patterns):\n",
    "    all_feat = []\n",
    "    for seq in all_seqs:\n",
    "        feat= np.zeros((1,len(patterns)))\n",
    "        ix=0\n",
    "        for ix, pattern in enumerate(patterns):\n",
    "            pat='(?='+pattern+')'\n",
    "            featcnt=len(re.findall(pat,seq))\n",
    "            feat[0,ix] = featcnt\n",
    "            ix+=1\n",
    "        all_feat.append(feat)\n",
    "    return np.asarray(all_feat)\n",
    "\n",
    "#patterns= ['AA','AC','AU','AG','CA','CC','CU','CG','UA','UC','UU','UG','GA','GC','GU','GG']\n",
    "#patterns= ['AAA','AAC','AAU','AAG','ACA','ACC','ACU', 'ACG','AUA','AUC','AUU','AUG','AGA','AGC','AGU', 'AGG','CAA','CAC','CAU','CAG','UAA','UAC','UAU', 'UAG','GAA','GAC','GAU','GAG','CCA','CCC','CCU', 'CCG','UUA','UUC','UUU','UUG','GGA','GGC','GGU', 'GGG','UCA','UCC','UCU','UCG','GCA','GCC','GCU','GCG','CUA','CUC','CUU','CUG','GUA','GUC','GUU','AGG','CGA','CGC','CGU','GGG','UUU','AUA','CUA', 'GUA']\n",
    "patterns=['AAAA','AAAC','AAAG','AAAU','AACA','AACC','AACG','AACU','AAGA','AAGC','AAGG','AAGU','AAUA','AAUC','AAUG','AAUU','ACAA','ACAC','ACAG','ACAU','ACCA','ACCC','ACCG','ACCU','ACGA','ACGC','ACGG','ACGU','ACUA','ACUC','ACUG','ACUU','AGAA','AGAC','AGAG','AGAU','AGCA','AGCC','AGCG','AGCU','AGGA','AGGC','AGGG','AGGU','AGUA','AGUC','AGUG','AGUU','AUAA','AUAC','AUAG','AUAU','AUCA','AUCC','AUCG','AUCU','AUGA','AUGC','AUGG','AUGU','AUUA','AUUC','AUUG','AUUU','CAAA','CAAC','CAAG','CAAU','CACA','CACC','CACG','CACU','CAGA','CAGC','CAGG','CAGU','CAUA','CAUC','CAUG','CAUU','CCAA','CCAC','CCAG','CCAU','CCCA','CCCC','CCCG','CCCU','CCGA','CCGC','CCGG','CCGU','CCUA','CCUC','CCUG','CCUU','CGAA','CGAC','CGAG','CGAU','CGCA','CGCC','CGCG','CGCU','CGGA','CGGC','CGGG','CGGU','CGUA','CGUC','CGUG','CGUU','CUAA','CUAC','CUAG','CUAU','CUCA','CUCC','CUCG','CUCU','CUGA','CUGC','CUGG','CUGU','CUUA','CUUC','CUUG','CUUU','GAAA','GAAC','GAAG','GAAU','GACA','GACC','GACG','GACU','GAGA','GAGC','GAGG','GAGU','GAUA','GAUC','GAUG','GAUU','GCAA','GCAC','GCAG','GCAU','GCCA','GCCC','GCCG','GCCU','GCGA','GCGC','GCGG','GCGU','GCUA','GCUC','GCUG','GCUU','GGAA','GGAC','GGAG','GGAU','GGCA','GGCC','GGCG','GGCU','GGGA','GGGC','GGGG','GGGU','GGUA','GGUC','GGUG','GGUU','GUAA','GUAC','GUAG','GUAU','GUCA','GUCC','GUCG','GUCU','GUGA','GUGC','GUGG','GUGU','GUUA','GUUC','GUUG','GUUU','UAAA','UAAC','UAAG','UAAU','UACA','UACC','UACG','UACU','UAGA','UAGC','UAGG','UAGU','UAUA','UAUC','UAUG','UAUU','UCAA','UCAC','UCAG','UCAU','UCCA','UCCC','UCCG','UCCU','UCGA','UCGC','UCGG','UCGU','UCUA','UCUC','UCUG','UCUU','UGAA','UGAC','UGAG','UGAU','UGCA','UGCC','UGCG','UGCU','UGGA','UGGC','UGGG','UGGU','UGUA','UGUC','UGUG','UGUU','UUAA','UUAC','UUAG','UUAU','UUCA','UUCC','UUCG','UUCU','UUGA','UUGC','UUGG','UUGU','UUUA','UUUC','UUUG','UUUU']\n",
    "#patterns=['AAAAA','AAAAC','AAAAG','AAAAU','AAACA','AAACC','AAACG','AAACU','AAAGA','AAAGC','AAAGG','AAAGU','AAAUA','AAAUC','AAAUG','AAAUU','AACAA','AACAC','AACAG','AACAU','AACCA','AACCC','AACCG','AACCU','AACGA','AACGC','AACGG','AACGU','AACUA','AACUC','AACUG','AACUU','AAGAA','AAGAC','AAGAG','AAGAU','AAGCA','AAGCC','AAGCG','AAGCU','AAGGA','AAGGC','AAGGG','AAGGU','AAGUA','AAGUC','AAGUG','AAGUU','AAUAA','AAUAC','AAUAG','AAUAU','AAUCA','AAUCC','AAUCG','AAUCU','AAUGA','AAUGC','AAUGG','AAUGU','AAUUA','AAUUC','AAUUG','AAUUU','ACAAA','ACAAC','ACAAG','ACAAU','ACACA','ACACC','ACACG','ACACU','ACAGA','ACAGC','ACAGG','ACAGU','ACAUA','ACAUC','ACAUG','ACAUU','ACCAA','ACCAC','ACCAG','ACCAU','ACCCA','ACCCC','ACCCG','ACCCU','ACCGA','ACCGC','ACCGG','ACCGU','ACCUA','ACCUC','ACCUG','ACCUU','ACGAA','ACGAC','ACGAG','ACGAU','ACGCA','ACGCC','ACGCG','ACGCU','ACGGA','ACGGC','ACGGG','ACGGU','ACGUA','ACGUC','ACGUG','ACGUU','ACUAA','ACUAC','ACUAG','ACUAU','ACUCA','ACUCC','ACUCG','ACUCU','ACUGA','ACUGC','ACUGG','ACUGU','ACUUA','ACUUC','ACUUG','ACUUU','AGAAA','AGAAC','AGAAG','AGAAU','AGACA','AGACC','AGACG','AGACU','AGAGA','AGAGC','AGAGG','AGAGU','AGAUA','AGAUC','AGAUG','AGAUU','AGCAA','AGCAC','AGCAG','AGCAU','AGCCA','AGCCC','AGCCG','AGCCU','AGCGA','AGCGC','AGCGG','AGCGU','AGCUA','AGCUC','AGCUG','AGCUU','AGGAA','AGGAC','AGGAG','AGGAU','AGGCA','AGGCC','AGGCG','AGGCU','AGGGA','AGGGC','AGGGG','AGGGU','AGGUA','AGGUC','AGGUG','AGGUU','AGUAA','AGUAC','AGUAG','AGUAU','AGUCA','AGUCC','AGUCG','AGUCU','AGUGA','AGUGC','AGUGG','AGUGU','AGUUA','AGUUC','AGUUG','AGUUU','AUAAA','AUAAC','AUAAG','AUAAU','AUACA','AUACC','AUACG','AUACU','AUAGA','AUAGC','AUAGG','AUAGU','AUAUA','AUAUC','AUAUG','AUAUU','AUCAA','AUCAC','AUCAG','AUCAU','AUCCA','AUCCC','AUCCG','AUCCU','AUCGA','AUCGC','AUCGG','AUCGU','AUCUA','AUCUC','AUCUG','AUCUU','AUGAA','AUGAC','AUGAG','AUGAU','AUGCA','AUGCC','AUGCG','AUGCU','AUGGA','AUGGC','AUGGG','AUGGU','AUGUA','AUGUC','AUGUG','AUGUU','AUUAA','AUUAC','AUUAG','AUUAU','AUUCA','AUUCC','AUUCG','AUUCU','AUUGA','AUUGC','AUUGG','AUUGU','AUUUA','AUUUC','AUUUG','AUUUU','CAAAA','CAAAC','CAAAG','CAAAU','CAACA','CAACC','CAACG','CAACU','CAAGA','CAAGC','CAAGG','CAAGU','CAAUA','CAAUC','CAAUG','CAAUU','CACAA','CACAC','CACAG','CACAU','CACCA','CACCC','CACCG','CACCU','CACGA','CACGC','CACGG','CACGU','CACUA','CACUC','CACUG','CACUU','CAGAA','CAGAC','CAGAG','CAGAU','CAGCA','CAGCC','CAGCG','CAGCU','CAGGA','CAGGC','CAGGG','CAGGU','CAGUA','CAGUC','CAGUG','CAGUU','CAUAA','CAUAC','CAUAG','CAUAU','CAUCA','CAUCC','CAUCG','CAUCU','CAUGA','CAUGC','CAUGG','CAUGU','CAUUA','CAUUC','CAUUG','CAUUU','CCAAA','CCAAC','CCAAG','CCAAU','CCACA','CCACC','CCACG','CCACU','CCAGA','CCAGC','CCAGG','CCAGU','CCAUA','CCAUC','CCAUG','CCAUU','CCCAA','CCCAC','CCCAG','CCCAU','CCCCA','CCCCC','CCCCG','CCCCU','CCCGA','CCCGC','CCCGG','CCCGU','CCCUA','CCCUC','CCCUG','CCCUU','CCGAA','CCGAC','CCGAG','CCGAU','CCGCA','CCGCC','CCGCG','CCGCU','CCGGA','CCGGC','CCGGG','CCGGU','CCGUA','CCGUC','CCGUG','CCGUU','CCUAA','CCUAC','CCUAG','CCUAU','CCUCA','CCUCC','CCUCG','CCUCU','CCUGA','CCUGC','CCUGG','CCUGU','CCUUA','CCUUC','CCUUG','CCUUU','CGAAA','CGAAC','CGAAG','CGAAU','CGACA','CGACC','CGACG','CGACU','CGAGA','CGAGC','CGAGG','CGAGU','CGAUA','CGAUC','CGAUG','CGAUU','CGCAA','CGCAC','CGCAG','CGCAU','CGCCA','CGCCC','CGCCG','CGCCU','CGCGA','CGCGC','CGCGG','CGCGU','CGCUA','CGCUC','CGCUG','CGCUU','CGGAA','CGGAC','CGGAG','CGGAU','CGGCA','CGGCC','CGGCG','CGGCU','CGGGA','CGGGC','CGGGG','CGGGU','CGGUA','CGGUC','CGGUG','CGGUU','CGUAA','CGUAC','CGUAG','CGUAU','CGUCA','CGUCC','CGUCG','CGUCU','CGUGA','CGUGC','CGUGG','CGUGU','CGUUA','CGUUC','CGUUG','CGUUU','CUAAA','CUAAC','CUAAG','CUAAU','CUACA','CUACC','CUACG','CUACU','CUAGA','CUAGC','CUAGG','CUAGU','CUAUA','CUAUC','CUAUG','CUAUU','CUCAA','CUCAC','CUCAG','CUCAU','CUCCA','CUCCC','CUCCG','CUCCU','CUCGA','CUCGC','CUCGG','CUCGU','CUCUA','CUCUC','CUCUG','CUCUU','CUGAA','CUGAC','CUGAG','CUGAU','CUGCA','CUGCC','CUGCG','CUGCU','CUGGA','CUGGC','CUGGG','CUGGU','CUGUA','CUGUC','CUGUG','CUGUU','CUUAA','CUUAC','CUUAG','CUUAU','CUUCA','CUUCC','CUUCG','CUUCU','CUUGA','CUUGC','CUUGG','CUUGU','CUUUA','CUUUC','CUUUG','CUUUU','GAAAA','GAAAC','GAAAG','GAAAU','GAACA','GAACC','GAACG','GAACU','GAAGA','GAAGC','GAAGG','GAAGU','GAAUA','GAAUC','GAAUG','GAAUU','GACAA','GACAC','GACAG','GACAU','GACCA','GACCC','GACCG','GACCU','GACGA','GACGC','GACGG','GACGU','GACUA','GACUC','GACUG','GACUU','GAGAA','GAGAC','GAGAG','GAGAU','GAGCA','GAGCC','GAGCG','GAGCU','GAGGA','GAGGC','GAGGG','GAGGU','GAGUA','GAGUC','GAGUG','GAGUU','GAUAA','GAUAC','GAUAG','GAUAU','GAUCA','GAUCC','GAUCG','GAUCU','GAUGA','GAUGC','GAUGG','GAUGU','GAUUA','GAUUC','GAUUG','GAUUU','GCAAA','GCAAC','GCAAG','GCAAU','GCACA','GCACC','GCACG','GCACU','GCAGA','GCAGC','GCAGG','GCAGU','GCAUA','GCAUC','GCAUG','GCAUU','GCCAA','GCCAC','GCCAG','GCCAU','GCCCA','GCCCC','GCCCG','GCCCU','GCCGA','GCCGC','GCCGG','GCCGU','GCCUA','GCCUC','GCCUG','GCCUU','GCGAA','GCGAC','GCGAG','GCGAU','GCGCA','GCGCC','GCGCG','GCGCU','GCGGA','GCGGC','GCGGG','GCGGU','GCGUA','GCGUC','GCGUG','GCGUU','GCUAA','GCUAC','GCUAG','GCUAU','GCUCA','GCUCC','GCUCG','GCUCU','GCUGA','GCUGC','GCUGG','GCUGU','GCUUA','GCUUC','GCUUG','GCUUU','GGAAA','GGAAC','GGAAG','GGAAU','GGACA','GGACC','GGACG','GGACU','GGAGA','GGAGC','GGAGG','GGAGU','GGAUA','GGAUC','GGAUG','GGAUU','GGCAA','GGCAC','GGCAG','GGCAU','GGCCA','GGCCC','GGCCG','GGCCU','GGCGA','GGCGC','GGCGG','GGCGU','GGCUA','GGCUC','GGCUG','GGCUU','GGGAA','GGGAC','GGGAG','GGGAU','GGGCA','GGGCC','GGGCG','GGGCU','GGGGA','GGGGC','GGGGG','GGGGU','GGGUA','GGGUC','GGGUG','GGGUU','GGUAA','GGUAC','GGUAG','GGUAU','GGUCA','GGUCC','GGUCG','GGUCU','GGUGA','GGUGC','GGUGG','GGUGU','GGUUA','GGUUC','GGUUG','GGUUU','GUAAA','GUAAC','GUAAG','GUAAU','GUACA','GUACC','GUACG','GUACU','GUAGA','GUAGC','GUAGG','GUAGU','GUAUA','GUAUC','GUAUG','GUAUU','GUCAA','GUCAC','GUCAG','GUCAU','GUCCA','GUCCC','GUCCG','GUCCU','GUCGA','GUCGC','GUCGG','GUCGU','GUCUA','GUCUC','GUCUG','GUCUU','GUGAA','GUGAC','GUGAG','GUGAU','GUGCA','GUGCC','GUGCG','GUGCU','GUGGA','GUGGC','GUGGG','GUGGU','GUGUA','GUGUC','GUGUG','GUGUU','GUUAA','GUUAC','GUUAG','GUUAU','GUUCA','GUUCC','GUUCG','GUUCU','GUUGA','GUUGC','GUUGG','GUUGU','GUUUA','GUUUC','GUUUG','GUUUU','UAAAA','UAAAC','UAAAG','UAAAU','UAACA','UAACC','UAACG','UAACU','UAAGA','UAAGC','UAAGG','UAAGU','UAAUA','UAAUC','UAAUG','UAAUU','UACAA','UACAC','UACAG','UACAU','UACCA','UACCC','UACCG','UACCU','UACGA','UACGC','UACGG','UACGU','UACUA','UACUC','UACUG','UACUU','UAGAA','UAGAC','UAGAG','UAGAU','UAGCA','UAGCC','UAGCG','UAGCU','UAGGA','UAGGC','UAGGG','UAGGU','UAGUA','UAGUC','UAGUG','UAGUU','UAUAA','UAUAC','UAUAG','UAUAU','UAUCA','UAUCC','UAUCG','UAUCU','UAUGA','UAUGC','UAUGG','UAUGU','UAUUA','UAUUC','UAUUG','UAUUU','UCAAA','UCAAC','UCAAG','UCAAU','UCACA','UCACC','UCACG','UCACU','UCAGA','UCAGC','UCAGG','UCAGU','UCAUA','UCAUC','UCAUG','UCAUU','UCCAA','UCCAC','UCCAG','UCCAU','UCCCA','UCCCC','UCCCG','UCCCU','UCCGA','UCCGC','UCCGG','UCCGU','UCCUA','UCCUC','UCCUG','UCCUU','UCGAA','UCGAC','UCGAG','UCGAU','UCGCA','UCGCC','UCGCG','UCGCU','UCGGA','UCGGC','UCGGG','UCGGU','UCGUA','UCGUC','UCGUG','UCGUU','UCUAA','UCUAC','UCUAG','UCUAU','UCUCA','UCUCC','UCUCG','UCUCU','UCUGA','UCUGC','UCUGG','UCUGU','UCUUA','UCUUC','UCUUG','UCUUU','UGAAA','UGAAC','UGAAG','UGAAU','UGACA','UGACC','UGACG','UGACU','UGAGA','UGAGC','UGAGG','UGAGU','UGAUA','UGAUC','UGAUG','UGAUU','UGCAA','UGCAC','UGCAG','UGCAU','UGCCA','UGCCC','UGCCG','UGCCU','UGCGA','UGCGC','UGCGG','UGCGU','UGCUA','UGCUC','UGCUG','UGCUU','UGGAA','UGGAC','UGGAG','UGGAU','UGGCA','UGGCC','UGGCG','UGGCU','UGGGA','UGGGC','UGGGG','UGGGU','UGGUA','UGGUC','UGGUG','UGGUU','UGUAA','UGUAC','UGUAG','UGUAU','UGUCA','UGUCC','UGUCG','UGUCU','UGUGA','UGUGC','UGUGG','UGUGU','UGUUA','UGUUC','UGUUG','UGUUU','UUAAA','UUAAC','UUAAG','UUAAU','UUACA','UUACC','UUACG','UUACU','UUAGA','UUAGC','UUAGG','UUAGU','UUAUA','UUAUC','UUAUG','UUAUU','UUCAA','UUCAC','UUCAG','UUCAU','UUCCA','UUCCC','UUCCG','UUCCU','UUCGA','UUCGC','UUCGG','UUCGU','UUCUA','UUCUC','UUCUG','UUCUU','UUGAA','UUGAC','UUGAG','UUGAU','UUGCA','UUGCC','UUGCG','UUGCU','UUGGA','UUGGC','UUGGG','UUGGU','UUGUA','UUGUC','UUGUG','UUGUU','UUUAA','UUUAC','UUUAG','UUUAU','UUUCA','UUUCC','UUUCG','UUUCU','UUUGA','UUUGC','UUUGG','UUUGU','UUUUA','UUUUC','UUUUG','UUUUU']\n",
    "#paUUerns= ['A','C','U','G','AA','AC','AU','AG','CA','CC', 'CU','CG','UA','UC','UU','UG','GA','GC','GU', 'GG','AAA','AAC','AAU','AAG','ACA','ACC','ACU', 'ACG','AUA','AUC','AUU','AUG','AGA','AGC','AGU', 'AGG','CAA','CAC','CAU','CAG','UAA','UAC','UAU', 'UAG','GAA','GAC','GAU','GAG','CCA','CCC','CCU', 'CCG','UUA','UUC','UUU','UUG','GGA','GGC','GGU', 'GGG','UCA','UCC','UCU','UCG','GCA','GCC','GCU','GCG','CUA','CUC','CUU','CUG','GUA','GUC','GUU','AGG','CGA','CGC','CGU','GGG','UUU','AUA','CUA', 'GUA']\n"
   ]
  },
  {
   "cell_type": "code",
   "execution_count": 4,
   "metadata": {},
   "outputs": [],
   "source": [
    "enh_kmer_feature=get_feature(enh_combine_seqs,patterns)\n"
   ]
  },
  {
   "cell_type": "code",
   "execution_count": 5,
   "metadata": {},
   "outputs": [
    {
     "data": {
      "text/plain": [
       "(4396, 1, 256)"
      ]
     },
     "execution_count": 5,
     "metadata": {},
     "output_type": "execute_result"
    }
   ],
   "source": [
    "enh_kmer_feature.shape\n"
   ]
  },
  {
   "cell_type": "code",
   "execution_count": 6,
   "metadata": {},
   "outputs": [],
   "source": [
    "bases = ['A','C','G','U']\n",
    "def onehot(seq):\n",
    "    X = np.zeros((len(seq),len(seq[0]), len(bases)))\n",
    "    print(len(seq),len(seq[0]), len(bases))\n",
    "    for l,s in enumerate(seq):\n",
    "        for i, char in enumerate(s):\n",
    "            if char in bases:\n",
    "                X[l,i, bases.index(char)] = 1\n",
    "    return X\n",
    "def shuffle_ab(a,b,c):\n",
    "    s = np.arange(a.shape[0])\n",
    "    shuffle(s)\n",
    "    return a[s],b[s],c[s]"
   ]
  },
  {
   "cell_type": "code",
   "execution_count": 7,
   "metadata": {},
   "outputs": [
    {
     "data": {
      "text/plain": [
       "{0.0: 0.7679944095038435, 1.0: 1.4328552803129075}"
      ]
     },
     "execution_count": 7,
     "metadata": {},
     "output_type": "execute_result"
    }
   ],
   "source": [
    "from sklearn.utils import compute_class_weight\n",
    "lbs = list(np.ones(len(enh_pos_seq))) + list(np.zeros(len(enh_neg_seq)))\n",
    "class_weights = compute_class_weight(\n",
    "                                        class_weight = \"balanced\",\n",
    "                                        classes = np.unique(lbs),\n",
    "                                        y = lbs                                                    \n",
    "                                    )\n",
    "class_weights = dict(zip(np.unique(lbs), class_weights))\n",
    "class_weights"
   ]
  },
  {
   "cell_type": "code",
   "execution_count": 8,
   "metadata": {},
   "outputs": [
    {
     "name": "stdout",
     "output_type": "stream",
     "text": [
      "1534\n"
     ]
    }
   ],
   "source": [
    "p=list(np.zeros(len(enh_pos_seq))) \n",
    "print(len(p))"
   ]
  },
  {
   "cell_type": "code",
   "execution_count": 9,
   "metadata": {},
   "outputs": [
    {
     "name": "stdout",
     "output_type": "stream",
     "text": [
      "4396 41 4\n"
     ]
    },
    {
     "data": {
      "text/plain": [
       "(4396, 41, 4)"
      ]
     },
     "execution_count": 9,
     "metadata": {},
     "output_type": "execute_result"
    }
   ],
   "source": [
    "enh_features = onehot(enh_combine_seqs)\n",
    "enh_features=np.asarray(enh_features,dtype=np.float)\n",
    "enh_features.shape"
   ]
  },
  {
   "cell_type": "code",
   "execution_count": 10,
   "metadata": {},
   "outputs": [
    {
     "data": {
      "text/plain": [
       "(4396, 1)"
      ]
     },
     "execution_count": 10,
     "metadata": {},
     "output_type": "execute_result"
    }
   ],
   "source": [
    "from sklearn.preprocessing import LabelEncoder, OneHotEncoder\n",
    "one_hot_encoder = OneHotEncoder() \n",
    "lbs = np.array(lbs).reshape(-1, 1)\n",
    "Input_labels = one_hot_encoder.fit_transform(lbs).toarray()\n",
    "Input_labels = np.array(lbs)\n",
    "Input_labels.shape"
   ]
  },
  {
   "cell_type": "code",
   "execution_count": 11,
   "metadata": {},
   "outputs": [],
   "source": [
    "enh_features,enh_kmer,Input_labels=shuffle_ab(enh_features,enh_kmer_feature,Input_labels)\n"
   ]
  },
  {
   "cell_type": "code",
   "execution_count": 12,
   "metadata": {},
   "outputs": [],
   "source": [
    "class CustomModelCheckpoint(keras.callbacks.Callback):\n",
    "    def __init__(self, model, path):\n",
    "        self.path = path\n",
    "        self.model_for_saving = model\n",
    "    def on_epoch_end(self, epoch, logs=None):\n",
    "        loss = logs['val_loss']\n",
    "        print(\"\\nSaving model to : {}\".format(self.path.format(epoch=epoch, val_loss=loss)))\n",
    "        self.model_for_saving.save_weights(self.path.format(epoch=epoch, val_loss=loss), overwrite=True)\n",
    "def step_decay(epoch):\n",
    "    lrate=[0.001]*30+[0.0001]*170\n",
    "    print (lrate[epoch])\n",
    "    return lrate[epoch]"
   ]
  },
  {
   "cell_type": "code",
   "execution_count": 13,
   "metadata": {},
   "outputs": [],
   "source": [
    "model_name= 'EPI'\n",
    "result_folder= 'results/'\n",
    "if not os.path.exists(result_folder+model_name):\n",
    "    os.makedirs(result_folder+model_name)\n",
    "\n",
    "model_results_folder=result_folder+model_name+ '/'\n",
    "best_weights = model_results_folder + 'best_weights.h5'\n",
    "last_weights = model_results_folder + 'last_weights.h5'\n",
    "model_arch = model_results_folder + 'model.jsno'\n",
    "history_pth = model_results_folder + 'results.pickle'\n"
   ]
  },
  {
   "cell_type": "code",
   "execution_count": 14,
   "metadata": {
    "scrolled": true
   },
   "outputs": [
    {
     "name": "stdout",
     "output_type": "stream",
     "text": [
      "Model: \"model\"\n",
      "__________________________________________________________________________________________________\n",
      "Layer (type)                    Output Shape         Param #     Connected to                     \n",
      "==================================================================================================\n",
      "input_1 (InputLayer)            [(None, 41, 4)]      0                                            \n",
      "__________________________________________________________________________________________________\n",
      "conv1d (Conv1D)                 (None, 41, 8)        232         input_1[0][0]                    \n",
      "__________________________________________________________________________________________________\n",
      "conv1d_1 (Conv1D)               (None, 41, 16)       1168        conv1d[0][0]                     \n",
      "__________________________________________________________________________________________________\n",
      "input_2 (InputLayer)            [(None, 1, 256)]     0                                            \n",
      "__________________________________________________________________________________________________\n",
      "flatten (Flatten)               (None, 656)          0           conv1d_1[0][0]                   \n",
      "__________________________________________________________________________________________________\n",
      "flatten_1 (Flatten)             (None, 256)          0           input_2[0][0]                    \n",
      "__________________________________________________________________________________________________\n",
      "concatenate (Concatenate)       (None, 912)          0           flatten[0][0]                    \n",
      "                                                                 flatten_1[0][0]                  \n",
      "__________________________________________________________________________________________________\n",
      "dropout (Dropout)               (None, 912)          0           concatenate[0][0]                \n",
      "__________________________________________________________________________________________________\n",
      "batch_normalization (BatchNorma (None, 912)          3648        dropout[0][0]                    \n",
      "__________________________________________________________________________________________________\n",
      "flatten_2 (Flatten)             (None, 912)          0           batch_normalization[0][0]        \n",
      "__________________________________________________________________________________________________\n",
      "dense (Dense)                   (None, 1)            913         flatten_2[0][0]                  \n",
      "==================================================================================================\n",
      "Total params: 5,961\n",
      "Trainable params: 4,137\n",
      "Non-trainable params: 1,824\n",
      "__________________________________________________________________________________________________\n",
      "None\n"
     ]
    },
    {
     "name": "stderr",
     "output_type": "stream",
     "text": [
      "2023-07-14 20:07:49.937177: I tensorflow/compiler/jit/xla_cpu_device.cc:41] Not creating XLA devices, tf_xla_enable_xla_devices not set\n",
      "2023-07-14 20:07:49.938214: I tensorflow/stream_executor/platform/default/dso_loader.cc:49] Successfully opened dynamic library libcuda.so.1\n",
      "2023-07-14 20:07:49.957812: E tensorflow/stream_executor/cuda/cuda_driver.cc:328] failed call to cuInit: CUDA_ERROR_NO_DEVICE: no CUDA-capable device is detected\n",
      "2023-07-14 20:07:49.957846: I tensorflow/stream_executor/cuda/cuda_diagnostics.cc:169] retrieving CUDA diagnostic information for host: ece-ashrafa-6s\n",
      "2023-07-14 20:07:49.957852: I tensorflow/stream_executor/cuda/cuda_diagnostics.cc:176] hostname: ece-ashrafa-6s\n",
      "2023-07-14 20:07:49.958008: I tensorflow/stream_executor/cuda/cuda_diagnostics.cc:200] libcuda reported version is: 520.61.5\n",
      "2023-07-14 20:07:49.958030: I tensorflow/stream_executor/cuda/cuda_diagnostics.cc:204] kernel reported version is: 520.61.5\n",
      "2023-07-14 20:07:49.958036: I tensorflow/stream_executor/cuda/cuda_diagnostics.cc:310] kernel version seems to match DSO: 520.61.5\n",
      "2023-07-14 20:07:49.958451: I tensorflow/core/platform/cpu_feature_guard.cc:142] This TensorFlow binary is optimized with oneAPI Deep Neural Network Library (oneDNN) to use the following CPU instructions in performance-critical operations:  AVX2 AVX512F FMA\n",
      "To enable them in other operations, rebuild TensorFlow with the appropriate compiler flags.\n",
      "2023-07-14 20:07:49.962708: I tensorflow/compiler/jit/xla_gpu_device.cc:99] Not creating XLA devices, tf_xla_enable_xla_devices not set\n"
     ]
    }
   ],
   "source": [
    "enh_inp1=Input((41,4))\n",
    "enh_inp2 = Input((1,256))\n",
    "enh_x1= Conv1D(8,7,strides=1,padding='same',activation = 'relu',kernel_regularizer = regularizers.l2(1e-3),bias_regularizer = regularizers.l2(1e-4),kernel_initializer='random_normal')(enh_inp1)\n",
    "enh_x1= Conv1D(16,9,strides=1,padding='same',activation = 'relu',kernel_regularizer = regularizers.l2(1e-3),bias_regularizer = regularizers.l2(1e-4),kernel_initializer='random_normal')(enh_x1)\n",
    "enh_x1= Flatten()(enh_x1)\n",
    "enh_x2= Flatten()(enh_inp2)\n",
    "enh_x = concatenate([enh_x1,enh_x2], axis=1)\n",
    "enh_x = Dropout(0.75)(enh_x)\n",
    "x=BatchNormalization()(enh_x)\n",
    "x= Flatten()(x)\n",
    "\n",
    "x = Dense(1,activation='sigmoid',kernel_regularizer=l2(0.001),kernel_initializer='he_uniform')(x)\n",
    "model= Model(inputs=[enh_inp1,enh_inp2],outputs=x)\n",
    "\n",
    "print (model.summary())"
   ]
  },
  {
   "cell_type": "code",
   "execution_count": 15,
   "metadata": {},
   "outputs": [],
   "source": [
    "if not os.path.exists(result_folder+model_name):\n",
    "    os.makedirs(result_folder+model_name)\n",
    "\n",
    "model_results_folder=result_folder+model_name+ '/'\n",
    "history_pth = model_results_folder + 'results.pickle'"
   ]
  },
  {
   "cell_type": "code",
   "execution_count": 16,
   "metadata": {},
   "outputs": [],
   "source": [
    "model_json = model.to_json()\n",
    "with open(model_results_folder+\"model.json\", \"w\") as json_file:\n",
    "    json_file.write(model_json)\n",
    "\n",
    "checkpoint = ModelCheckpoint(best_weights, monitor='val_acc', verbose=1, save_best_only=False, mode='max')\n",
    "\n",
    "checkpointsString = model_results_folder + 'weights.{epoch:02d}-{val_loss:.2f}.hdf5'\n",
    "lrate = LearningRateScheduler(step_decay)\n",
    "callbacks = [lrate, CustomModelCheckpoint(model, checkpointsString),checkpoint]\n"
   ]
  },
  {
   "cell_type": "code",
   "execution_count": 17,
   "metadata": {},
   "outputs": [],
   "source": [
    "opt = Adam(lr=0.002,amsgrad = True)\n",
    "model.compile(loss='binary_crossentropy', optimizer=opt, metrics=['accuracy'])\n"
   ]
  },
  {
   "cell_type": "code",
   "execution_count": 18,
   "metadata": {},
   "outputs": [
    {
     "name": "stderr",
     "output_type": "stream",
     "text": [
      "2023-07-14 20:07:50.104975: I tensorflow/compiler/mlir/mlir_graph_optimization_pass.cc:116] None of the MLIR optimization passes are enabled (registered 2)\n",
      "2023-07-14 20:07:50.116675: I tensorflow/core/platform/profile_utils/cpu_utils.cc:112] CPU Frequency: 2400000000 Hz\n"
     ]
    },
    {
     "name": "stdout",
     "output_type": "stream",
     "text": [
      "Epoch 1/50\n",
      "0.001\n",
      "248/248 [==============================] - 2s 4ms/step - loss: 0.6807 - accuracy: 0.5960 - val_loss: 0.5159 - val_accuracy: 0.7977\n",
      "\n",
      "Saving model to : results/EPI/weights.00-0.52.hdf5\n",
      "\n",
      "Epoch 00001: saving model to results/EPI/best_weights.h5\n",
      "Epoch 2/50\n",
      "0.001\n",
      "248/248 [==============================] - 1s 2ms/step - loss: 0.5320 - accuracy: 0.7289 - val_loss: 0.4495 - val_accuracy: 0.8068\n",
      "\n",
      "Saving model to : results/EPI/weights.01-0.45.hdf5\n",
      "\n",
      "Epoch 00002: saving model to results/EPI/best_weights.h5\n",
      "Epoch 3/50\n",
      "0.001\n",
      "248/248 [==============================] - 1s 2ms/step - loss: 0.4793 - accuracy: 0.7819 - val_loss: 0.4574 - val_accuracy: 0.8068\n",
      "\n",
      "Saving model to : results/EPI/weights.02-0.46.hdf5\n",
      "\n",
      "Epoch 00003: saving model to results/EPI/best_weights.h5\n",
      "Epoch 4/50\n",
      "0.001\n",
      "248/248 [==============================] - 0s 2ms/step - loss: 0.4556 - accuracy: 0.7880 - val_loss: 0.4603 - val_accuracy: 0.7932\n",
      "\n",
      "Saving model to : results/EPI/weights.03-0.46.hdf5\n",
      "\n",
      "Epoch 00004: saving model to results/EPI/best_weights.h5\n",
      "Epoch 5/50\n",
      "0.001\n",
      "248/248 [==============================] - 1s 2ms/step - loss: 0.4601 - accuracy: 0.7898 - val_loss: 0.4156 - val_accuracy: 0.8182\n",
      "\n",
      "Saving model to : results/EPI/weights.04-0.42.hdf5\n",
      "\n",
      "Epoch 00005: saving model to results/EPI/best_weights.h5\n",
      "Epoch 6/50\n",
      "0.001\n",
      "248/248 [==============================] - 1s 2ms/step - loss: 0.4296 - accuracy: 0.8035 - val_loss: 0.3760 - val_accuracy: 0.8386\n",
      "\n",
      "Saving model to : results/EPI/weights.05-0.38.hdf5\n",
      "\n",
      "Epoch 00006: saving model to results/EPI/best_weights.h5\n",
      "Epoch 7/50\n",
      "0.001\n",
      "248/248 [==============================] - 1s 2ms/step - loss: 0.4179 - accuracy: 0.8216 - val_loss: 0.3690 - val_accuracy: 0.8432\n",
      "\n",
      "Saving model to : results/EPI/weights.06-0.37.hdf5\n",
      "\n",
      "Epoch 00007: saving model to results/EPI/best_weights.h5\n",
      "Epoch 8/50\n",
      "0.001\n",
      "248/248 [==============================] - 1s 2ms/step - loss: 0.4231 - accuracy: 0.8247 - val_loss: 0.3543 - val_accuracy: 0.8545\n",
      "\n",
      "Saving model to : results/EPI/weights.07-0.35.hdf5\n",
      "\n",
      "Epoch 00008: saving model to results/EPI/best_weights.h5\n",
      "Epoch 9/50\n",
      "0.001\n",
      "248/248 [==============================] - 1s 2ms/step - loss: 0.4174 - accuracy: 0.8249 - val_loss: 0.3610 - val_accuracy: 0.8591\n",
      "\n",
      "Saving model to : results/EPI/weights.08-0.36.hdf5\n",
      "\n",
      "Epoch 00009: saving model to results/EPI/best_weights.h5\n",
      "Epoch 10/50\n",
      "0.001\n",
      "248/248 [==============================] - 1s 2ms/step - loss: 0.4139 - accuracy: 0.8288 - val_loss: 0.3444 - val_accuracy: 0.8659\n",
      "\n",
      "Saving model to : results/EPI/weights.09-0.34.hdf5\n",
      "\n",
      "Epoch 00010: saving model to results/EPI/best_weights.h5\n",
      "Epoch 11/50\n",
      "0.001\n",
      "248/248 [==============================] - 1s 2ms/step - loss: 0.3985 - accuracy: 0.8311 - val_loss: 0.3581 - val_accuracy: 0.8591\n",
      "\n",
      "Saving model to : results/EPI/weights.10-0.36.hdf5\n",
      "\n",
      "Epoch 00011: saving model to results/EPI/best_weights.h5\n",
      "Epoch 12/50\n",
      "0.001\n",
      "248/248 [==============================] - 1s 2ms/step - loss: 0.3851 - accuracy: 0.8288 - val_loss: 0.6952 - val_accuracy: 0.7295\n",
      "\n",
      "Saving model to : results/EPI/weights.11-0.70.hdf5\n",
      "\n",
      "Epoch 00012: saving model to results/EPI/best_weights.h5\n",
      "Epoch 13/50\n",
      "0.001\n",
      "248/248 [==============================] - 1s 2ms/step - loss: 0.4044 - accuracy: 0.8213 - val_loss: 0.3405 - val_accuracy: 0.8545\n",
      "\n",
      "Saving model to : results/EPI/weights.12-0.34.hdf5\n",
      "\n",
      "Epoch 00013: saving model to results/EPI/best_weights.h5\n",
      "Epoch 14/50\n",
      "0.001\n",
      "248/248 [==============================] - 1s 2ms/step - loss: 0.3810 - accuracy: 0.8471 - val_loss: 0.3791 - val_accuracy: 0.8568\n",
      "\n",
      "Saving model to : results/EPI/weights.13-0.38.hdf5\n",
      "\n",
      "Epoch 00014: saving model to results/EPI/best_weights.h5\n",
      "Epoch 15/50\n",
      "0.001\n",
      "248/248 [==============================] - 1s 2ms/step - loss: 0.4068 - accuracy: 0.8273 - val_loss: 0.3659 - val_accuracy: 0.8636\n",
      "\n",
      "Saving model to : results/EPI/weights.14-0.37.hdf5\n",
      "\n",
      "Epoch 00015: saving model to results/EPI/best_weights.h5\n",
      "Epoch 16/50\n",
      "0.001\n",
      "248/248 [==============================] - 1s 2ms/step - loss: 0.3741 - accuracy: 0.8403 - val_loss: 0.3627 - val_accuracy: 0.8591\n",
      "\n",
      "Saving model to : results/EPI/weights.15-0.36.hdf5\n",
      "\n",
      "Epoch 00016: saving model to results/EPI/best_weights.h5\n",
      "Epoch 17/50\n",
      "0.001\n",
      "248/248 [==============================] - 1s 2ms/step - loss: 0.3927 - accuracy: 0.8363 - val_loss: 0.4598 - val_accuracy: 0.8318\n",
      "\n",
      "Saving model to : results/EPI/weights.16-0.46.hdf5\n",
      "\n",
      "Epoch 00017: saving model to results/EPI/best_weights.h5\n",
      "Epoch 18/50\n",
      "0.001\n",
      "248/248 [==============================] - 1s 2ms/step - loss: 0.3940 - accuracy: 0.8394 - val_loss: 0.3970 - val_accuracy: 0.8591\n",
      "\n",
      "Saving model to : results/EPI/weights.17-0.40.hdf5\n",
      "\n",
      "Epoch 00018: saving model to results/EPI/best_weights.h5\n",
      "Epoch 19/50\n",
      "0.001\n",
      "248/248 [==============================] - 1s 2ms/step - loss: 0.3696 - accuracy: 0.8466 - val_loss: 0.4087 - val_accuracy: 0.8455\n",
      "\n",
      "Saving model to : results/EPI/weights.18-0.41.hdf5\n",
      "\n",
      "Epoch 00019: saving model to results/EPI/best_weights.h5\n",
      "Epoch 20/50\n",
      "0.001\n",
      "248/248 [==============================] - 1s 2ms/step - loss: 0.3723 - accuracy: 0.8457 - val_loss: 0.3622 - val_accuracy: 0.8568\n",
      "\n",
      "Saving model to : results/EPI/weights.19-0.36.hdf5\n",
      "\n",
      "Epoch 00020: saving model to results/EPI/best_weights.h5\n",
      "Epoch 21/50\n",
      "0.001\n",
      "248/248 [==============================] - 1s 2ms/step - loss: 0.3886 - accuracy: 0.8410 - val_loss: 0.4198 - val_accuracy: 0.8432\n",
      "\n",
      "Saving model to : results/EPI/weights.20-0.42.hdf5\n",
      "\n",
      "Epoch 00021: saving model to results/EPI/best_weights.h5\n",
      "Epoch 22/50\n",
      "0.001\n",
      "248/248 [==============================] - 1s 2ms/step - loss: 0.3670 - accuracy: 0.8416 - val_loss: 0.3532 - val_accuracy: 0.8659\n",
      "\n",
      "Saving model to : results/EPI/weights.21-0.35.hdf5\n",
      "\n",
      "Epoch 00022: saving model to results/EPI/best_weights.h5\n",
      "Epoch 23/50\n",
      "0.001\n",
      "248/248 [==============================] - 1s 3ms/step - loss: 0.3830 - accuracy: 0.8460 - val_loss: 0.3579 - val_accuracy: 0.8659\n",
      "\n",
      "Saving model to : results/EPI/weights.22-0.36.hdf5\n",
      "\n",
      "Epoch 00023: saving model to results/EPI/best_weights.h5\n",
      "Epoch 24/50\n",
      "0.001\n",
      "248/248 [==============================] - 1s 2ms/step - loss: 0.3734 - accuracy: 0.8523 - val_loss: 0.3656 - val_accuracy: 0.8568\n",
      "\n",
      "Saving model to : results/EPI/weights.23-0.37.hdf5\n",
      "\n",
      "Epoch 00024: saving model to results/EPI/best_weights.h5\n",
      "Epoch 25/50\n",
      "0.001\n",
      "248/248 [==============================] - 1s 2ms/step - loss: 0.3782 - accuracy: 0.8535 - val_loss: 0.3991 - val_accuracy: 0.8386\n",
      "\n",
      "Saving model to : results/EPI/weights.24-0.40.hdf5\n",
      "\n",
      "Epoch 00025: saving model to results/EPI/best_weights.h5\n",
      "Epoch 26/50\n",
      "0.001\n",
      "248/248 [==============================] - 1s 2ms/step - loss: 0.3647 - accuracy: 0.8508 - val_loss: 0.3943 - val_accuracy: 0.8500\n",
      "\n",
      "Saving model to : results/EPI/weights.25-0.39.hdf5\n",
      "\n",
      "Epoch 00026: saving model to results/EPI/best_weights.h5\n",
      "Epoch 27/50\n",
      "0.001\n",
      "248/248 [==============================] - 1s 2ms/step - loss: 0.3535 - accuracy: 0.8609 - val_loss: 0.3744 - val_accuracy: 0.8568\n",
      "\n",
      "Saving model to : results/EPI/weights.26-0.37.hdf5\n",
      "\n",
      "Epoch 00027: saving model to results/EPI/best_weights.h5\n",
      "Epoch 28/50\n",
      "0.001\n",
      "248/248 [==============================] - 0s 2ms/step - loss: 0.3494 - accuracy: 0.8581 - val_loss: 0.3610 - val_accuracy: 0.8614\n",
      "\n",
      "Saving model to : results/EPI/weights.27-0.36.hdf5\n",
      "\n",
      "Epoch 00028: saving model to results/EPI/best_weights.h5\n",
      "Epoch 29/50\n",
      "0.001\n",
      "248/248 [==============================] - 1s 2ms/step - loss: 0.3798 - accuracy: 0.8430 - val_loss: 0.3816 - val_accuracy: 0.8568\n",
      "\n",
      "Saving model to : results/EPI/weights.28-0.38.hdf5\n",
      "\n",
      "Epoch 00029: saving model to results/EPI/best_weights.h5\n",
      "Epoch 30/50\n",
      "0.001\n",
      "248/248 [==============================] - 1s 2ms/step - loss: 0.3568 - accuracy: 0.8594 - val_loss: 0.4043 - val_accuracy: 0.8568\n",
      "\n",
      "Saving model to : results/EPI/weights.29-0.40.hdf5\n",
      "\n",
      "Epoch 00030: saving model to results/EPI/best_weights.h5\n",
      "Epoch 31/50\n",
      "0.0001\n",
      "248/248 [==============================] - 0s 2ms/step - loss: 0.3413 - accuracy: 0.8683 - val_loss: 0.3727 - val_accuracy: 0.8636\n",
      "\n",
      "Saving model to : results/EPI/weights.30-0.37.hdf5\n",
      "\n",
      "Epoch 00031: saving model to results/EPI/best_weights.h5\n",
      "Epoch 32/50\n",
      "0.0001\n",
      "248/248 [==============================] - 1s 2ms/step - loss: 0.3398 - accuracy: 0.8698 - val_loss: 0.3850 - val_accuracy: 0.8568\n",
      "\n",
      "Saving model to : results/EPI/weights.31-0.39.hdf5\n",
      "\n",
      "Epoch 00032: saving model to results/EPI/best_weights.h5\n",
      "Epoch 33/50\n",
      "0.0001\n"
     ]
    },
    {
     "name": "stdout",
     "output_type": "stream",
     "text": [
      "248/248 [==============================] - 1s 2ms/step - loss: 0.3474 - accuracy: 0.8603 - val_loss: 0.3799 - val_accuracy: 0.8636\n",
      "\n",
      "Saving model to : results/EPI/weights.32-0.38.hdf5\n",
      "\n",
      "Epoch 00033: saving model to results/EPI/best_weights.h5\n",
      "Epoch 34/50\n",
      "0.0001\n",
      "248/248 [==============================] - 1s 2ms/step - loss: 0.3450 - accuracy: 0.8612 - val_loss: 0.3752 - val_accuracy: 0.8682\n",
      "\n",
      "Saving model to : results/EPI/weights.33-0.38.hdf5\n",
      "\n",
      "Epoch 00034: saving model to results/EPI/best_weights.h5\n",
      "Epoch 35/50\n",
      "0.0001\n",
      "248/248 [==============================] - 1s 2ms/step - loss: 0.3532 - accuracy: 0.8580 - val_loss: 0.3771 - val_accuracy: 0.8636\n",
      "\n",
      "Saving model to : results/EPI/weights.34-0.38.hdf5\n",
      "\n",
      "Epoch 00035: saving model to results/EPI/best_weights.h5\n",
      "Epoch 36/50\n",
      "0.0001\n",
      "248/248 [==============================] - 1s 2ms/step - loss: 0.3593 - accuracy: 0.8623 - val_loss: 0.3824 - val_accuracy: 0.8614\n",
      "\n",
      "Saving model to : results/EPI/weights.35-0.38.hdf5\n",
      "\n",
      "Epoch 00036: saving model to results/EPI/best_weights.h5\n",
      "Epoch 37/50\n",
      "0.0001\n",
      "248/248 [==============================] - 1s 2ms/step - loss: 0.3442 - accuracy: 0.8641 - val_loss: 0.3833 - val_accuracy: 0.8614\n",
      "\n",
      "Saving model to : results/EPI/weights.36-0.38.hdf5\n",
      "\n",
      "Epoch 00037: saving model to results/EPI/best_weights.h5\n",
      "Epoch 38/50\n",
      "0.0001\n",
      "248/248 [==============================] - 1s 2ms/step - loss: 0.3363 - accuracy: 0.8619 - val_loss: 0.3844 - val_accuracy: 0.8636\n",
      "\n",
      "Saving model to : results/EPI/weights.37-0.38.hdf5\n",
      "\n",
      "Epoch 00038: saving model to results/EPI/best_weights.h5\n",
      "Epoch 39/50\n",
      "0.0001\n",
      "248/248 [==============================] - 1s 2ms/step - loss: 0.3378 - accuracy: 0.8691 - val_loss: 0.3799 - val_accuracy: 0.8659\n",
      "\n",
      "Saving model to : results/EPI/weights.38-0.38.hdf5\n",
      "\n",
      "Epoch 00039: saving model to results/EPI/best_weights.h5\n",
      "Epoch 40/50\n",
      "0.0001\n",
      "248/248 [==============================] - 1s 2ms/step - loss: 0.3078 - accuracy: 0.8800 - val_loss: 0.3772 - val_accuracy: 0.8636\n",
      "\n",
      "Saving model to : results/EPI/weights.39-0.38.hdf5\n",
      "\n",
      "Epoch 00040: saving model to results/EPI/best_weights.h5\n",
      "Epoch 41/50\n",
      "0.0001\n",
      "248/248 [==============================] - 1s 2ms/step - loss: 0.3404 - accuracy: 0.8691 - val_loss: 0.3756 - val_accuracy: 0.8659\n",
      "\n",
      "Saving model to : results/EPI/weights.40-0.38.hdf5\n",
      "\n",
      "Epoch 00041: saving model to results/EPI/best_weights.h5\n",
      "Epoch 42/50\n",
      "0.0001\n",
      "248/248 [==============================] - 1s 2ms/step - loss: 0.3644 - accuracy: 0.8571 - val_loss: 0.3834 - val_accuracy: 0.8568\n",
      "\n",
      "Saving model to : results/EPI/weights.41-0.38.hdf5\n",
      "\n",
      "Epoch 00042: saving model to results/EPI/best_weights.h5\n",
      "Epoch 43/50\n",
      "0.0001\n",
      "248/248 [==============================] - 1s 2ms/step - loss: 0.3094 - accuracy: 0.8837 - val_loss: 0.3814 - val_accuracy: 0.8591\n",
      "\n",
      "Saving model to : results/EPI/weights.42-0.38.hdf5\n",
      "\n",
      "Epoch 00043: saving model to results/EPI/best_weights.h5\n",
      "Epoch 44/50\n",
      "0.0001\n",
      "248/248 [==============================] - 1s 2ms/step - loss: 0.3419 - accuracy: 0.8691 - val_loss: 0.3863 - val_accuracy: 0.8614\n",
      "\n",
      "Saving model to : results/EPI/weights.43-0.39.hdf5\n",
      "\n",
      "Epoch 00044: saving model to results/EPI/best_weights.h5\n",
      "Epoch 45/50\n",
      "0.0001\n",
      "248/248 [==============================] - 1s 2ms/step - loss: 0.3383 - accuracy: 0.8682 - val_loss: 0.3845 - val_accuracy: 0.8636\n",
      "\n",
      "Saving model to : results/EPI/weights.44-0.38.hdf5\n",
      "\n",
      "Epoch 00045: saving model to results/EPI/best_weights.h5\n",
      "Epoch 46/50\n",
      "0.0001\n",
      "248/248 [==============================] - 1s 2ms/step - loss: 0.3466 - accuracy: 0.8648 - val_loss: 0.3789 - val_accuracy: 0.8682\n",
      "\n",
      "Saving model to : results/EPI/weights.45-0.38.hdf5\n",
      "\n",
      "Epoch 00046: saving model to results/EPI/best_weights.h5\n",
      "Epoch 47/50\n",
      "0.0001\n",
      "248/248 [==============================] - 1s 2ms/step - loss: 0.3307 - accuracy: 0.8727 - val_loss: 0.3772 - val_accuracy: 0.8682\n",
      "\n",
      "Saving model to : results/EPI/weights.46-0.38.hdf5\n",
      "\n",
      "Epoch 00047: saving model to results/EPI/best_weights.h5\n",
      "Epoch 48/50\n",
      "0.0001\n",
      "248/248 [==============================] - 1s 2ms/step - loss: 0.3265 - accuracy: 0.8721 - val_loss: 0.3720 - val_accuracy: 0.8773\n",
      "\n",
      "Saving model to : results/EPI/weights.47-0.37.hdf5\n",
      "\n",
      "Epoch 00048: saving model to results/EPI/best_weights.h5\n",
      "Epoch 49/50\n",
      "0.0001\n",
      "248/248 [==============================] - 1s 3ms/step - loss: 0.3169 - accuracy: 0.8772 - val_loss: 0.3780 - val_accuracy: 0.8614\n",
      "\n",
      "Saving model to : results/EPI/weights.48-0.38.hdf5\n",
      "\n",
      "Epoch 00049: saving model to results/EPI/best_weights.h5\n",
      "Epoch 50/50\n",
      "0.0001\n",
      "248/248 [==============================] - 1s 2ms/step - loss: 0.3246 - accuracy: 0.8728 - val_loss: 0.3684 - val_accuracy: 0.8727\n",
      "\n",
      "Saving model to : results/EPI/weights.49-0.37.hdf5\n",
      "\n",
      "Epoch 00050: saving model to results/EPI/best_weights.h5\n"
     ]
    }
   ],
   "source": [
    "history = model.fit([enh_features,enh_kmer],Input_labels,class_weight=class_weights,batch_size=16,epochs=50,shuffle=True, validation_split=0.1,callbacks=callbacks)\n"
   ]
  },
  {
   "cell_type": "code",
   "execution_count": 19,
   "metadata": {},
   "outputs": [],
   "source": [
    "import pickle\n",
    "with open(history_pth, 'wb') as file_pi:\n",
    "    pickle.dump(history.history, file_pi)\n"
   ]
  },
  {
   "cell_type": "code",
   "execution_count": 20,
   "metadata": {},
   "outputs": [],
   "source": [
    "model.load_weights(best_weights)\n"
   ]
  },
  {
   "cell_type": "code",
   "execution_count": 21,
   "metadata": {},
   "outputs": [],
   "source": [
    "y_scores= model.predict([enh_features,enh_kmer])\n",
    "y_true=Input_labels"
   ]
  },
  {
   "cell_type": "code",
   "execution_count": 22,
   "metadata": {
    "scrolled": false
   },
   "outputs": [
    {
     "name": "stdout",
     "output_type": "stream",
     "text": [
      "\n",
      "Area under the ROC curve: 0.9673022940531736\n",
      "\n",
      "Area under Precision-Recall curve: 0.9465561976219717\n",
      "Global Accuracy: 0.9126478616924477\n",
      "Specificity: 0.9374563242487771\n",
      "Sensitivity: 0.8663624511082139\n",
      "\n",
      "F1 score (F-measure): 0.873767258382643\n",
      "MCC: 0.8070610263952057\n"
     ]
    },
    {
     "data": {
      "image/png": "[encoded data removed]",
      "text/plain": [
       "<Figure size 640x480 with 1 Axes>"
      ]
     },
     "metadata": {},
     "output_type": "display_data"
    },
    {
     "data": {
      "image/png": "[encoded data removed]",
      "text/plain": [
       "<Figure size 640x480 with 1 Axes>"
      ]
     },
     "metadata": {},
     "output_type": "display_data"
    }
   ],
   "source": [
    "#scikit learn\n",
    "from sklearn.metrics import roc_curve\n",
    "from sklearn.metrics import roc_auc_score\n",
    "from sklearn.metrics import confusion_matrix\n",
    "from sklearn.metrics import precision_recall_curve\n",
    "from sklearn.metrics import matthews_corrcoef\n",
    "from sklearn.metrics import f1_score\n",
    "from matplotlib import pyplot as plt\n",
    "%matplotlib inline\n",
    "#Area under the ROC curve\n",
    "fpr, tpr, thresholds = roc_curve((y_true), y_scores)\n",
    "AUC_ROC = roc_auc_score(y_true, y_scores)\n",
    "# test_integral = np.trapz(tpr,fpr) #trapz is numpy integration\n",
    "print (\"\\nArea under the ROC curve: \" +str(AUC_ROC))\n",
    "roc_curve =plt.figure()\n",
    "plt.plot(fpr,tpr,'-',label='Area Under the Curve (AUC = %0.4f)' % AUC_ROC)\n",
    "plt.title('ROC curve')\n",
    "plt.xlabel(\"FPR (False Positive Rate)\")\n",
    "plt.ylabel(\"TPR (True Positive Rate)\")\n",
    "plt.legend(loc=\"lower right\")\n",
    "#plt.savefig(path_experiment+\"ROC.png\")\n",
    "plt.savefig('Promoter-dataset-1-one-hot-code-ROC.png')\n",
    "#Precision-recall curve\n",
    "precision, recall, thresholds = precision_recall_curve(y_true, y_scores)\n",
    "precision = np.fliplr([precision])[0]  #so the array is increasing (you won't get negative AUC)\n",
    "recall = np.fliplr([recall])[0]  #so the array is increasing (you won't get negative AUC)\n",
    "AUC_prec_rec = np.trapz(precision,recall)\n",
    "print (\"\\nArea under Precision-Recall curve: \" +str(AUC_prec_rec))\n",
    "prec_rec_curve = plt.figure()\n",
    "plt.plot(recall,precision,'-',label='Area Under the Curve (AUC = %0.4f)' % AUC_prec_rec)\n",
    "plt.title('Precision - Recall curve')\n",
    "plt.xlabel(\"Recall\")\n",
    "plt.ylabel(\"Precision\")\n",
    "plt.legend(loc=\"lower right\")\n",
    "#plt.savefig(path_experiment+\"Precision_recall.png\")\n",
    "\n",
    "#Confusion matrix\n",
    "threshold_confusion = 0.5\n",
    "#print (\"\\nConfusion matrix:  Custom threshold (for positive) of \" +str(threshold_confusion))\n",
    "y_pred = np.empty((y_scores.shape[0]))\n",
    "for i in range(y_scores.shape[0]):\n",
    "    if y_scores[i]>=threshold_confusion:\n",
    "        y_pred[i]=1\n",
    "    else:\n",
    "        y_pred[i]=0\n",
    "confusion = confusion_matrix(y_true, y_pred)\n",
    "#print (confusion)\n",
    "accuracy = 0\n",
    "if float(np.sum(confusion))!=0:\n",
    "    accuracy = float(confusion[0,0]+confusion[1,1])/float(np.sum(confusion))\n",
    "print (\"Global Accuracy: \" +str(accuracy))\n",
    "specificity = 0\n",
    "if float(confusion[0,0]+confusion[0,1])!=0:\n",
    "    specificity = float(confusion[0,0])/float(confusion[0,0]+confusion[0,1])\n",
    "print (\"Specificity: \" +str(specificity))\n",
    "sensitivity = 0\n",
    "if float(confusion[1,1]+confusion[1,0])!=0:\n",
    "    sensitivity = float(confusion[1,1])/float(confusion[1,1]+confusion[1,0])\n",
    "print (\"Sensitivity: \" +str(sensitivity))\n",
    "precision = 0\n",
    "if float(confusion[1,1]+confusion[0,1])!=0:\n",
    "    precision = float(confusion[1,1])/float(confusion[1,1]+confusion[0,1])\n",
    "#print (\"Precision: \" +str(precision))\n",
    "\n",
    "#Jaccard similarity index\n",
    "#jaccard_index = jaccard_similarity_score(y_true, y_pred, normalize=True)\n",
    "#print (\"\\nJaccard similarity score: \" +str(jaccard_index))\n",
    "\n",
    "#F1 score\n",
    "F1_score = f1_score(y_true, y_pred, labels=None, average='binary', sample_weight=None)\n",
    "print (\"\\nF1 score (F-measure): \" +str(F1_score))\n",
    "\n",
    "mcc= matthews_corrcoef(y_true, y_pred)\n",
    "print ('MCC:', mcc)\n"
   ]
  },
  {
   "cell_type": "code",
   "execution_count": 23,
   "metadata": {},
   "outputs": [],
   "source": [
    "model.load_weights(best_weights)"
   ]
  },
  {
   "cell_type": "code",
   "execution_count": 24,
   "metadata": {},
   "outputs": [],
   "source": [
    "enh_ind_pos = []\n",
    "for seq_record in SeqIO.parse('datasets/Full-transcript-mode-test-Pos.txt', \"fasta\"):\n",
    "    enh_ind_pos.append(str(seq_record.seq))\n",
    "enh_ind_neg = []\n",
    "for seq_record in SeqIO.parse('datasets/Full-transcript-mode-test-Neg.txt', \"fasta\"):\n",
    "    enh_ind_neg.append(str(seq_record.seq))"
   ]
  },
  {
   "cell_type": "code",
   "execution_count": 25,
   "metadata": {},
   "outputs": [],
   "source": [
    "enh_ind_comb = enh_ind_pos+enh_ind_neg"
   ]
  },
  {
   "cell_type": "code",
   "execution_count": 26,
   "metadata": {},
   "outputs": [
    {
     "name": "stdout",
     "output_type": "stream",
     "text": [
      "1231 41 4\n"
     ]
    },
    {
     "data": {
      "text/plain": [
       "(1231, 41, 4)"
      ]
     },
     "execution_count": 26,
     "metadata": {},
     "output_type": "execute_result"
    }
   ],
   "source": [
    "enh_ind_features = onehot(enh_ind_comb)\n",
    "enh_ind_features=np.asarray(enh_ind_features,dtype=np.float)\n",
    "enh_ind_features.shape\n"
   ]
  },
  {
   "cell_type": "code",
   "execution_count": 27,
   "metadata": {},
   "outputs": [],
   "source": [
    "enh_kmer_ind=get_feature(enh_ind_comb,patterns)\n"
   ]
  },
  {
   "cell_type": "code",
   "execution_count": 29,
   "metadata": {},
   "outputs": [],
   "source": [
    "lbs = list(np.ones(len(enh_ind_pos))) + list(np.zeros(len(enh_ind_neg)))\n"
   ]
  },
  {
   "cell_type": "code",
   "execution_count": 30,
   "metadata": {},
   "outputs": [
    {
     "data": {
      "text/plain": [
       "(1231, 1)"
      ]
     },
     "execution_count": 30,
     "metadata": {},
     "output_type": "execute_result"
    }
   ],
   "source": [
    "from sklearn.preprocessing import LabelEncoder, OneHotEncoder\n",
    "one_hot_encoder = OneHotEncoder() \n",
    "lbs = np.array(lbs).reshape(-1, 1)\n",
    "Input_labels = one_hot_encoder.fit_transform(lbs).toarray()\n",
    "Input_labels = np.array(lbs)\n",
    "Input_labels.shape"
   ]
  },
  {
   "cell_type": "code",
   "execution_count": 31,
   "metadata": {},
   "outputs": [],
   "source": [
    "np.save('m5U/enh_folds/enh_ind_test',enh_ind_features)\n",
    "np.save('m5U/enh_folds/enh_ind_kmer',enh_kmer_ind)\n",
    "np.save('m5U/enh_folds/ind_y_test',Input_labels)\n"
   ]
  },
  {
   "cell_type": "code",
   "execution_count": 32,
   "metadata": {},
   "outputs": [],
   "source": [
    "enh_ind_test,test_labels=np.load('m5U/enh_folds/enh_ind_test.npy'), np.load('m5U/enh_folds/ind_y_test.npy')\n",
    "enh_kmer_ind = np.load('m5U/enh_folds/enh_ind_kmer.npy')\n",
    "y_scores= model.predict([enh_ind_test,enh_kmer_ind])\n",
    "y_true=test_labels\n"
   ]
  },
  {
   "cell_type": "code",
   "execution_count": 33,
   "metadata": {},
   "outputs": [
    {
     "name": "stdout",
     "output_type": "stream",
     "text": [
      "\n",
      "Area under the ROC curve: 0.9536497948016416\n",
      "\n",
      "Area under Precision-Recall curve: 0.9438530876776774\n",
      "Global Accuracy: 0.8943948009748173\n",
      "Specificity: 0.9110807113543091\n",
      "Sensitivity: 0.87\n",
      "\n",
      "F1 score (F-measure): 0.87\n",
      "MCC: 0.7810807113543091\n"
     ]
    },
    {
     "data": {
      "image/png": "[encoded data removed]",
      "text/plain": [
       "<Figure size 640x480 with 1 Axes>"
      ]
     },
     "metadata": {},
     "output_type": "display_data"
    },
    {
     "data": {
      "image/png": "[encoded data removed]",
      "text/plain": [
       "<Figure size 640x480 with 1 Axes>"
      ]
     },
     "metadata": {},
     "output_type": "display_data"
    }
   ],
   "source": [
    "#scikit learn\n",
    "from sklearn.metrics import roc_curve\n",
    "from sklearn.metrics import roc_auc_score\n",
    "from sklearn.metrics import confusion_matrix\n",
    "from sklearn.metrics import precision_recall_curve\n",
    "from sklearn.metrics import matthews_corrcoef\n",
    "from sklearn.metrics import f1_score\n",
    "from matplotlib import pyplot as plt\n",
    "%matplotlib inline\n",
    "#Area under the ROC curve\n",
    "fpr, tpr, thresholds = roc_curve((y_true), y_scores)\n",
    "AUC_ROC = roc_auc_score(y_true, y_scores)\n",
    "# test_integral = np.trapz(tpr,fpr) #trapz is numpy integration\n",
    "print (\"\\nArea under the ROC curve: \" +str(AUC_ROC))\n",
    "roc_curve =plt.figure()\n",
    "plt.plot(fpr,tpr,'-',label='Area Under the Curve (AUC = %0.4f)' % AUC_ROC)\n",
    "plt.title('ROC curve')\n",
    "plt.xlabel(\"FPR (False Positive Rate)\")\n",
    "plt.ylabel(\"TPR (True Positive Rate)\")\n",
    "plt.legend(loc=\"lower right\")\n",
    "#plt.savefig(path_experiment+\"ROC.png\")\n",
    "plt.savefig('Promoter-dataset-1-one-hot-code-ROC.png')\n",
    "#Precision-recall curve\n",
    "precision, recall, thresholds = precision_recall_curve(y_true, y_scores)\n",
    "precision = np.fliplr([precision])[0]  #so the array is increasing (you won't get negative AUC)\n",
    "recall = np.fliplr([recall])[0]  #so the array is increasing (you won't get negative AUC)\n",
    "AUC_prec_rec = np.trapz(precision,recall)\n",
    "print (\"\\nArea under Precision-Recall curve: \" +str(AUC_prec_rec))\n",
    "prec_rec_curve = plt.figure()\n",
    "plt.plot(recall,precision,'-',label='Area Under the Curve (AUC = %0.4f)' % AUC_prec_rec)\n",
    "plt.title('Precision - Recall curve')\n",
    "plt.xlabel(\"Recall\")\n",
    "plt.ylabel(\"Precision\")\n",
    "plt.legend(loc=\"lower right\")\n",
    "#plt.savefig(path_experiment+\"Precision_recall.png\")\n",
    "\n",
    "#Confusion matrix\n",
    "threshold_confusion = 0.5\n",
    "#print (\"\\nConfusion matrix:  Custom threshold (for positive) of \" +str(threshold_confusion))\n",
    "y_pred = np.empty((y_scores.shape[0]))\n",
    "for i in range(y_scores.shape[0]):\n",
    "    if y_scores[i]>=threshold_confusion:\n",
    "        y_pred[i]=1\n",
    "    else:\n",
    "        y_pred[i]=0\n",
    "confusion = confusion_matrix(y_true, y_pred)\n",
    "#print (confusion)\n",
    "accuracy = 0\n",
    "if float(np.sum(confusion))!=0:\n",
    "    accuracy = float(confusion[0,0]+confusion[1,1])/float(np.sum(confusion))\n",
    "print (\"Global Accuracy: \" +str(accuracy))\n",
    "specificity = 0\n",
    "if float(confusion[0,0]+confusion[0,1])!=0:\n",
    "    specificity = float(confusion[0,0])/float(confusion[0,0]+confusion[0,1])\n",
    "print (\"Specificity: \" +str(specificity))\n",
    "sensitivity = 0\n",
    "if float(confusion[1,1]+confusion[1,0])!=0:\n",
    "    sensitivity = float(confusion[1,1])/float(confusion[1,1]+confusion[1,0])\n",
    "print (\"Sensitivity: \" +str(sensitivity))\n",
    "precision = 0\n",
    "if float(confusion[1,1]+confusion[0,1])!=0:\n",
    "    precision = float(confusion[1,1])/float(confusion[1,1]+confusion[0,1])\n",
    "#print (\"Precision: \" +str(precision))\n",
    "\n",
    "#Jaccard similarity index\n",
    "#jaccard_index = jaccard_similarity_score(y_true, y_pred, normalize=True)\n",
    "#print (\"\\nJaccard similarity score: \" +str(jaccard_index))\n",
    "\n",
    "#F1 score\n",
    "F1_score = f1_score(y_true, y_pred, labels=None, average='binary', sample_weight=None)\n",
    "print (\"\\nF1 score (F-measure): \" +str(F1_score))\n",
    "\n",
    "mcc= matthews_corrcoef(y_true, y_pred)\n",
    "print ('MCC:', mcc)\n"
   ]
  },
  {
   "cell_type": "code",
   "execution_count": null,
   "metadata": {},
   "outputs": [],
   "source": []
  }
 ],
 "metadata": {
  "kernelspec": {
   "display_name": "Python 3",
   "language": "python",
   "name": "python3"
  },
  "language_info": {
   "codemirror_mode": {
    "name": "ipython",
    "version": 3
   },
   "file_extension": ".py",
   "mimetype": "text/x-python",
   "name": "python",
   "nbconvert_exporter": "python",
   "pygments_lexer": "ipython3",
   "version": "3.7.12"
  }
 },
 "nbformat": 4,
 "nbformat_minor": 2
}
